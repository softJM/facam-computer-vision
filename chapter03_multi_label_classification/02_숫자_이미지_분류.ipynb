{
 "cells": [
  {
   "cell_type": "markdown",
   "id": "f2473674f37bc203",
   "metadata": {
    "collapsed": false,
    "jupyter": {
     "outputs_hidden": false
    }
   },
   "source": [
    "# Part1 Chpater03_01 의류 색상 및 종류 분류"
   ]
  },
  {
   "cell_type": "markdown",
   "id": "7201fa2b445a1118",
   "metadata": {
    "collapsed": false,
    "jupyter": {
     "outputs_hidden": false
    }
   },
   "source": [
    "## 1. 데이터 불러오기\n",
    "1) 어노테이션 파일을 불러온다.\n",
    "2) 데이터의 기본 속성을 파악한다. (데이터 개수, 클래스 개수, 클래스 개수 분포 등)"
   ]
  },
  {
   "cell_type": "code",
   "execution_count": null,
   "id": "initial_id",
   "metadata": {
    "ExecuteTime": {
     "end_time": "2024-03-15T02:10:36.559465Z",
     "start_time": "2024-03-15T02:10:36.537474Z"
    }
   },
   "outputs": [],
   "source": [
    "import os\n",
    "import pandas as pd\n",
    "\n",
    "'''\n",
    "    어노테이션 파일을 불러온다.\n",
    "'''\n",
    "\n",
    "data_root = '../datasets/part1_chapter03_02'\n",
    "annotation_filename = 'annotations.csv'\n",
    "\n",
    "annotations = pd.read_csv(os.path.join(data_root, annotation_filename))\n",
    "\n",
    "annotations.head()"
   ]
  },
  {
   "cell_type": "code",
   "execution_count": null,
   "id": "fb12f7b5ca6c8a7b",
   "metadata": {
    "ExecuteTime": {
     "end_time": "2024-03-15T02:11:43.866364Z",
     "start_time": "2024-03-15T02:11:43.849041Z"
    },
    "collapsed": false,
    "jupyter": {
     "outputs_hidden": false
    }
   },
   "outputs": [],
   "source": [
    "from collections import defaultdict\n",
    "import ast\n",
    "'''\n",
    "    데이터의 기본 속성을 파악한다. (데이터 개수, 클래스 개수, 클래스 개수 분포 등)\n",
    "'''\n",
    "\n",
    "def get_class_map(annotations):\n",
    "    cls_map = defaultdict(int)\n",
    "    for idx, annot in annotations.iterrows():\n",
    "        '''\n",
    "            csv로 저장되면서 list 데이터가 string으로 변환되어 있음\n",
    "            예) [1, 2] -> '[1, 2]'\n",
    "            따라서 ast.literal_eval 함수로 형변환을 해야함\n",
    "        '''\n",
    "        cls_list = ast.literal_eval(annot['classes'])\n",
    "        for cls in cls_list:\n",
    "            cls_map[cls] += 1\n",
    "            \n",
    "    return cls_map\n",
    "\n",
    "cls_map = get_class_map(annotations)\n",
    "cls_map"
   ]
  },
  {
   "cell_type": "code",
   "execution_count": null,
   "id": "b3080ff05487fa00",
   "metadata": {
    "ExecuteTime": {
     "end_time": "2024-03-15T02:11:46.567397Z",
     "start_time": "2024-03-15T02:11:46.542900Z"
    },
    "collapsed": false,
    "jupyter": {
     "outputs_hidden": false
    }
   },
   "outputs": [],
   "source": [
    "print(f'데이터 개수 : {len(annotations)}')\n",
    "print(f'클래스 개수 : {len(list(cls_map.keys()))}')"
   ]
  },
  {
   "cell_type": "code",
   "execution_count": null,
   "id": "12ec4f2916648f51",
   "metadata": {
    "ExecuteTime": {
     "end_time": "2024-03-14T11:27:18.182018Z",
     "start_time": "2024-03-14T11:27:18.174216Z"
    },
    "collapsed": false,
    "jupyter": {
     "outputs_hidden": false
    }
   },
   "outputs": [],
   "source": []
  },
  {
   "cell_type": "code",
   "execution_count": null,
   "id": "e89f35337a43e2c3",
   "metadata": {
    "ExecuteTime": {
     "end_time": "2024-03-14T11:27:18.446540Z",
     "start_time": "2024-03-14T11:27:18.442935Z"
    },
    "collapsed": false,
    "jupyter": {
     "outputs_hidden": false
    }
   },
   "outputs": [],
   "source": []
  },
  {
   "cell_type": "code",
   "execution_count": null,
   "id": "2313e2d3f06c9b7",
   "metadata": {
    "ExecuteTime": {
     "end_time": "2024-03-14T11:27:18.649200Z",
     "start_time": "2024-03-14T11:27:18.645480Z"
    },
    "collapsed": false,
    "jupyter": {
     "outputs_hidden": false
    }
   },
   "outputs": [],
   "source": []
  },
  {
   "cell_type": "markdown",
   "id": "5e470baeb75aecbb",
   "metadata": {
    "collapsed": false,
    "jupyter": {
     "outputs_hidden": false
    }
   },
   "source": [
    "# 2. 데이터 시각화\n",
    " 1) 어노테이션을 랜덤으로 섞는다.\n",
    " 2) 전체 데이터 샘플을 시각화 한다.\n",
    " 3) 클래스별 데이터 샘플을 시각화 한다.데이터 샘플을 시각화 하여 확인한다."
   ]
  },
  {
   "cell_type": "code",
   "execution_count": null,
   "id": "753415591c5cf83f",
   "metadata": {
    "ExecuteTime": {
     "end_time": "2024-03-15T02:13:33.807727Z",
     "start_time": "2024-03-15T02:13:33.779962Z"
    },
    "collapsed": false,
    "jupyter": {
     "outputs_hidden": false
    }
   },
   "outputs": [],
   "source": [
    "import matplotlib.pyplot as plt\n",
    "\n",
    "'''\n",
    "    이미지 시각화 함수를 정의한다. \n",
    "'''\n",
    "def draw_images(images, classes):\n",
    "    '''\n",
    "        :param images: cv2(ndarray) 이미지 리스트\n",
    "        :param classes: 클래스 리스트\n",
    "        :return: None \n",
    "    '''\n",
    "    # 4x2의 그리드 생성 (바둑판 이미지 틀 생성)\n",
    "    fig, axs = plt.subplots(2, 4)\n",
    "    \n",
    "    # 각 하위 그래프에 이미지 출력\n",
    "    for i, ax in enumerate(axs.flat):\n",
    "        ax.imshow(images[i]) # 이미지를 바둑판에 출력\n",
    "        ax.set_title(classes[i]) # 클래스 이름으로 이미지 제목 생성 \n",
    "        # ax.axis('off') # 축 숨기기 (이미지 크기 출력 해제)\n",
    "    \n",
    "    plt.tight_layout()\n",
    "    plt.show()"
   ]
  },
  {
   "cell_type": "code",
   "execution_count": null,
   "id": "d5d1703883795ceb",
   "metadata": {
    "ExecuteTime": {
     "end_time": "2024-03-15T02:13:34.513307Z",
     "start_time": "2024-03-15T02:13:34.207113Z"
    },
    "collapsed": false,
    "jupyter": {
     "outputs_hidden": false
    }
   },
   "outputs": [],
   "source": [
    "from PIL import Image\n",
    "import numpy as np\n",
    "import random\n",
    "\n",
    "'''\n",
    "    데이터를 랜덤하게 셔플하고 시각화를 수행한다.\n",
    "'''\n",
    "\n",
    "# pandas 데이터프레임을 랜덤하게 셔플하는 방법.\n",
    "annotations = annotations.sample(frac=1).reset_index(drop=True)\n",
    "\n",
    "sample_images = [] # 이미지 샘플 저장\n",
    "sample_classes = [] # 이미지 클래스 저장\n",
    "sample_cnt = 0 # 시작 count\n",
    "max_cnt = 8 # 종류 count\n",
    "for idx, annot in annotations.iterrows():\n",
    "    classes = annot['classes']\n",
    "    sample_classes.append(classes)\n",
    "    image_path = os.path.join(data_root, annot['filepath'])\n",
    "    image = Image.open(image_path).convert('RGB')\n",
    "    sample_images.append(np.array(image))\n",
    "    sample_cnt += 1\n",
    "    if sample_cnt == max_cnt:\n",
    "        break\n",
    "\n",
    "## 전체 데이터 샘플을 시각화 한다.\n",
    "draw_images(sample_images, sample_classes)"
   ]
  },
  {
   "cell_type": "code",
   "execution_count": null,
   "id": "655feeb08c8dc629",
   "metadata": {
    "ExecuteTime": {
     "end_time": "2024-03-15T02:13:35.489754Z",
     "start_time": "2024-03-15T02:13:35.262102Z"
    },
    "collapsed": false,
    "jupyter": {
     "outputs_hidden": false
    }
   },
   "outputs": [],
   "source": [
    "from PIL import Image\n",
    "import numpy as np\n",
    "import random\n",
    "\n",
    "'''\n",
    "    클래스별 데이터를 시각화 한다.\n",
    "'''\n",
    "annotations = annotations.sample(frac=1).reset_index(drop=True)\n",
    "find_cls = [8, 1] # 찾고자 하는 클래스\n",
    "sample_images = []\n",
    "sample_classes = []\n",
    "sample_cnt = 0\n",
    "max_cnt = 8\n",
    "for idx, annot in annotations.iterrows():\n",
    "    cls_list = ast.literal_eval(annot['classes'])\n",
    "    if len(cls_list) < 2:\n",
    "        continue\n",
    "    cls1, cls2 = cls_list\n",
    "    ## 찾고자 하는 클래스와 일치할 경우에 데이터를 불러온다.\n",
    "    if (cls1 in find_cls) and (cls2 in find_cls):\n",
    "        sample_classes.append(annot['classes'])\n",
    "        image_path = os.path.join(data_root, annot['filepath'])\n",
    "        image = Image.open(image_path).convert('RGB')\n",
    "        sample_images.append(np.array(image))\n",
    "        sample_cnt += 1\n",
    "        if sample_cnt == max_cnt:\n",
    "            break\n",
    "    else:\n",
    "        continue\n",
    "\n",
    "## 클래스별 데이터 샘플을 시각화 한다.\n",
    "draw_images(sample_images, sample_classes)"
   ]
  },
  {
   "cell_type": "code",
   "execution_count": null,
   "id": "2d71c2e6449b90e2",
   "metadata": {
    "ExecuteTime": {
     "end_time": "2024-03-14T11:27:19.498435Z",
     "start_time": "2024-03-14T11:27:19.496595Z"
    },
    "collapsed": false,
    "jupyter": {
     "outputs_hidden": false
    }
   },
   "outputs": [],
   "source": []
  },
  {
   "cell_type": "markdown",
   "id": "d9c23d17697dca6e",
   "metadata": {
    "collapsed": false,
    "jupyter": {
     "outputs_hidden": false
    }
   },
   "source": [
    "# 3. 데이터세트 클래스 생성\n",
    "1) json 데이터를 파싱하고 출력하는 커스텀 데이터세트 클래스를 생성한다.\n",
    "2) 데이터세트의 출력 값을 확인한다."
   ]
  },
  {
   "cell_type": "code",
   "execution_count": null,
   "id": "1c59e674e6dc4a11",
   "metadata": {
    "ExecuteTime": {
     "end_time": "2024-03-15T02:13:57.925422Z",
     "start_time": "2024-03-15T02:13:57.900357Z"
    },
    "collapsed": false,
    "jupyter": {
     "outputs_hidden": false
    }
   },
   "outputs": [],
   "source": [
    "import torch\n",
    "import torch.nn.functional as F\n",
    "from torch.utils.data import Dataset\n",
    "\n",
    "'''\n",
    "    csv 데이터를 파싱하는 커스텀 데이터세트 클래스를 선언한다.\n",
    "'''\n",
    "\n",
    "class CsvDataset(Dataset):\n",
    "    def __init__(self, \n",
    "                 data_root,\n",
    "                 annotations, \n",
    "                 transform=None):\n",
    "        '''\n",
    "            :param data_root: 데이터셋의 루트 경로 \n",
    "            :param annotations: 어노테이션\n",
    "            :param transform: 이미지 변환 모듈\n",
    "        '''\n",
    "        self.data_root = data_root\n",
    "        self.annotations = annotations\n",
    "        self.transform = transform\n",
    "        self.class_list = self._get_classes() # 클래스의 목록\n",
    "        self.num_classes = len(self.class_list) # 클래스 개수\n",
    "        \n",
    "    def __len__(self):\n",
    "        return len(self.annotations) # 데이터 개수\n",
    "\n",
    "    def __getitem__(self, idx):\n",
    "        '''\n",
    "            :param idx:  \n",
    "            :return:\n",
    "                image : 입력 이미지 데이터 (텐서 또는 pillow 이미지)\n",
    "                target : 정답 클래스 데이터 (원-핫 벡터)\n",
    "                    예) [1.0, 0.0, 0.0, 1.0, 0.0, ...]\n",
    "        '''\n",
    "        annot = self.annotations.iloc[idx]\n",
    "        image_path = os.path.join(self.data_root, annot['filepath'])\n",
    "        image = Image.open(image_path).convert(\"RGB\")\n",
    "        classes = ast.literal_eval(annot['classes'])\n",
    "        target = []\n",
    "        for cls in classes:\n",
    "            target.append(self.class_list.index(cls))\n",
    "        target = F.one_hot(torch.tensor(target), self.num_classes).sum(dim=0).to(torch.float)\n",
    "        \n",
    "        if self.transform:\n",
    "            image = self.transform(image)\n",
    "\n",
    "        return image, target\n",
    "    \n",
    "    def _get_classes(self):\n",
    "        '''\n",
    "        :return: 클래스의 리스트를 반환한다. 각 인덱스는 클래스 번호가 된다.\n",
    "            예) ['blue', 'shirts', 'dress', ...] => blue: 0번 클래스, shirts: 1번 클래스, ... \n",
    "        '''\n",
    "        class_set = set()\n",
    "        for idx, annot in self.annotations.iterrows():\n",
    "            cls_list = ast.literal_eval(annot['classes'])\n",
    "            for cls in cls_list:\n",
    "                class_set.add(cls)\n",
    "        class_list = list(class_set)\n",
    "        class_list.sort()\n",
    "        return class_list"
   ]
  },
  {
   "cell_type": "code",
   "execution_count": null,
   "id": "4ebd894a571afd8e",
   "metadata": {
    "ExecuteTime": {
     "end_time": "2024-03-15T02:14:01.062321Z",
     "start_time": "2024-03-15T02:14:01.021937Z"
    },
    "collapsed": false,
    "jupyter": {
     "outputs_hidden": false
    }
   },
   "outputs": [],
   "source": [
    "'''\n",
    "    데이터세트의 출력 값을 시각화 한다.\n",
    "'''\n",
    "dataset = CsvDataset(data_root=data_root,\n",
    "                     annotations=annotations)\n",
    "data = dataset[0]\n",
    "data[0]"
   ]
  },
  {
   "cell_type": "code",
   "execution_count": null,
   "id": "552e332d074db68a",
   "metadata": {
    "ExecuteTime": {
     "end_time": "2024-03-15T02:14:01.522004Z",
     "start_time": "2024-03-15T02:14:01.499903Z"
    },
    "collapsed": false,
    "jupyter": {
     "outputs_hidden": false
    }
   },
   "outputs": [],
   "source": [
    "print(data[1])"
   ]
  },
  {
   "cell_type": "code",
   "execution_count": null,
   "id": "892cb92788d067cd",
   "metadata": {
    "ExecuteTime": {
     "end_time": "2024-03-14T11:27:20.674629Z",
     "start_time": "2024-03-14T11:27:20.673038Z"
    },
    "collapsed": false,
    "jupyter": {
     "outputs_hidden": false
    }
   },
   "outputs": [],
   "source": []
  },
  {
   "cell_type": "markdown",
   "id": "a5021280b14eb5e5",
   "metadata": {
    "collapsed": false,
    "jupyter": {
     "outputs_hidden": false
    }
   },
   "source": [
    "# 4. 학습 및 검증 데이터 분할"
   ]
  },
  {
   "cell_type": "code",
   "execution_count": null,
   "id": "76afcaf503c75c70",
   "metadata": {
    "ExecuteTime": {
     "end_time": "2024-03-15T02:14:14.096505Z",
     "start_time": "2024-03-15T02:14:14.072642Z"
    },
    "collapsed": false,
    "jupyter": {
     "outputs_hidden": false
    }
   },
   "outputs": [],
   "source": [
    "'''\n",
    "    원본 데이터셋을 학습과 검증셋으로 분할한다.\n",
    "'''\n",
    "annotations = annotations.sample(frac=1).reset_index(drop=True)\n",
    "len_annot = len(annotations)\n",
    "train_annot = annotations.iloc[ : int(len_annot * 0.9)]\n",
    "val_annot = annotations.iloc[int(len_annot * 0.9) : ]\n",
    "\n",
    "print(f'학습 데이터 개수 : {len(train_annot)}')\n",
    "print(f'검증 데이터 개수 : {len(val_annot)}')"
   ]
  },
  {
   "cell_type": "code",
   "execution_count": null,
   "id": "68a53895eaae1b9",
   "metadata": {
    "ExecuteTime": {
     "end_time": "2024-03-14T11:27:20.863180Z",
     "start_time": "2024-03-14T11:27:20.855280Z"
    },
    "collapsed": false,
    "jupyter": {
     "outputs_hidden": false
    }
   },
   "outputs": [],
   "source": []
  },
  {
   "cell_type": "markdown",
   "id": "c97f9c0cb4352e0e",
   "metadata": {
    "collapsed": false,
    "jupyter": {
     "outputs_hidden": false
    }
   },
   "source": [
    "# 5. 모델 학습 준비\n",
    "1. 학습에 필요한 하이퍼파라미터를 선언한다.\n",
    "2. 이미지 변환 모듈을 적용한 데이터세트의 샘플을 확인한다.\n",
    "3. 이미지 변환 모듈을 적용한 학습 및 검증 데이터세트를 생성한다.\n",
    "4. 학습 및 검증 데이터 로더를 생성한다.\n"
   ]
  },
  {
   "cell_type": "code",
   "execution_count": null,
   "id": "bc71b33cbbf91e95",
   "metadata": {
    "ExecuteTime": {
     "end_time": "2024-03-15T02:14:27.985545Z",
     "start_time": "2024-03-15T02:14:27.958086Z"
    },
    "collapsed": false,
    "jupyter": {
     "outputs_hidden": false
    }
   },
   "outputs": [],
   "source": [
    "'''\n",
    "    학습에 필요한 하이퍼파라미터를 선언한다.\n",
    "'''\n",
    "hyper_params = {\n",
    "    'num_epochs': 5,\n",
    "    'lr': 0.0001,\n",
    "    'score_threshold': 0.5, # 모델의 출력값에 대한 임계값\n",
    "    'image_size': 112,\n",
    "    'train_batch_size': 8,\n",
    "    'val_batch_size': 4,\n",
    "    'print_preq': 0.1 # 학습 중 로그 출력 빈도\n",
    "}"
   ]
  },
  {
   "cell_type": "code",
   "execution_count": null,
   "id": "d55b48231b4b3329",
   "metadata": {
    "ExecuteTime": {
     "end_time": "2024-03-15T02:14:38.616866Z",
     "start_time": "2024-03-15T02:14:38.593492Z"
    },
    "collapsed": false,
    "jupyter": {
     "outputs_hidden": false
    }
   },
   "outputs": [],
   "source": [
    "from torchvision import transforms\n",
    "\n",
    "'''\n",
    "    이미지 변환 모듈을 적용한 데이터세트의 결과물을 확인한다.\n",
    "'''\n",
    "# 샘플 이미지 변환 모듈 설정\n",
    "sample_transform = transforms.Compose([\n",
    "    transforms.Resize((hyper_params['image_size'], hyper_params['image_size'])),\n",
    "    transforms.RandomRotation(degrees=15),\n",
    "    # transforms.ToTensor(), # 테스트 과정에서 사용하지 않음.\n",
    "])\n",
    "sample_dataset = CsvDataset(data_root, train_annot, sample_transform)\n"
   ]
  },
  {
   "cell_type": "code",
   "execution_count": null,
   "id": "648905fa2456006",
   "metadata": {
    "ExecuteTime": {
     "end_time": "2024-03-15T02:14:45.941518Z",
     "start_time": "2024-03-15T02:14:45.701308Z"
    },
    "collapsed": false,
    "jupyter": {
     "outputs_hidden": false
    }
   },
   "outputs": [],
   "source": [
    "transformed_images = []\n",
    "targets = []\n",
    "\n",
    "## 데이터세트에서 변환된 이미지와 target 벡터를 불러온다.\n",
    "max_cnt = 8\n",
    "for idx, (image, target) in enumerate(sample_dataset):\n",
    "    if idx == max_cnt:\n",
    "        break\n",
    "    transformed_images.append(image)\n",
    "    targets.append(target.tolist())\n",
    "\n",
    "## 타켓 벡터를 클래스로 변환하고 \n",
    "target_classes = []\n",
    "class_list = sample_dataset.class_list\n",
    "for target in targets:\n",
    "    classes = []\n",
    "    for cls, val in enumerate(target):\n",
    "        if int(val) == 1:\n",
    "            classes.append(class_list[cls])\n",
    "    target_classes.append(classes)\n",
    "\n",
    "draw_images(transformed_images, target_classes)"
   ]
  },
  {
   "cell_type": "code",
   "execution_count": null,
   "id": "1c5bcaaf39475a28",
   "metadata": {
    "ExecuteTime": {
     "end_time": "2024-03-15T02:15:00.919889Z",
     "start_time": "2024-03-15T02:15:00.906456Z"
    },
    "collapsed": false,
    "jupyter": {
     "outputs_hidden": false
    }
   },
   "outputs": [],
   "source": [
    "'''\n",
    "    이미지 변환 모듈을 적용한 학습 및 검증 데이터세트를 생성한다.\n",
    "    학습 및 검증 데이터 로더를 생성한다.\n",
    "'''\n",
    "\n",
    "\n",
    "# 학습 및 검증 이미지 변환 모듈 설정\n",
    "transform = transforms.Compose([\n",
    "    transforms.Resize((hyper_params['image_size'], hyper_params['image_size'])),\n",
    "    transforms.RandomHorizontalFlip(p=0.5),\n",
    "    transforms.RandomRotation(degrees=15),\n",
    "    transforms.ToTensor(),\n",
    "])\n",
    "\n",
    "# 학습 데이터세트 및 데이터로더 설정\n",
    "train_dataset = CsvDataset(data_root, train_annot, transform)\n",
    "train_dataloader = torch.utils.data.DataLoader(train_dataset, batch_size=hyper_params['train_batch_size'], shuffle=True)\n",
    "\n",
    "# 검증 데이터세트 및 데이터로더 설정\n",
    "val_dataset = CsvDataset(data_root, train_annot, transform)\n",
    "val_dataloader = torch.utils.data.DataLoader(train_dataset, batch_size=hyper_params['val_batch_size'], shuffle=False)"
   ]
  },
  {
   "cell_type": "code",
   "execution_count": null,
   "id": "c08261d78bd3493b",
   "metadata": {
    "collapsed": false,
    "jupyter": {
     "outputs_hidden": false
    }
   },
   "outputs": [],
   "source": []
  },
  {
   "cell_type": "markdown",
   "id": "914cca5d17bcffbf",
   "metadata": {
    "collapsed": false,
    "jupyter": {
     "outputs_hidden": false
    }
   },
   "source": [
    "# 6. 모델 생성\n",
    "1) Resnet18 모델을 불러온다.\n",
    "2) 클래스 개수에 맞게 출력 레이어를 변경한다."
   ]
  },
  {
   "cell_type": "code",
   "execution_count": null,
   "id": "60a9345a50ce6122",
   "metadata": {
    "ExecuteTime": {
     "end_time": "2024-03-15T02:15:27.186099Z",
     "start_time": "2024-03-15T02:15:27.005425Z"
    },
    "collapsed": false,
    "jupyter": {
     "outputs_hidden": false
    }
   },
   "outputs": [],
   "source": [
    "import torch\n",
    "import torch.nn as nn\n",
    "from torchvision import models\n",
    "\n",
    "'''\n",
    "    1. Resnet18 모델을 불러온다.\n",
    "    2. 클래스 개수에 맞게 출력 레이어를 변경한다.\n",
    "'''\n",
    "\n",
    "model = models.resnet18(pretrained=True)\n",
    "model"
   ]
  },
  {
   "cell_type": "code",
   "execution_count": null,
   "id": "842614a76ecb9618",
   "metadata": {
    "ExecuteTime": {
     "end_time": "2024-03-15T02:15:31.343933Z",
     "start_time": "2024-03-15T02:15:31.319405Z"
    },
    "collapsed": false,
    "jupyter": {
     "outputs_hidden": false
    }
   },
   "outputs": [],
   "source": [
    "model.fc"
   ]
  },
  {
   "cell_type": "code",
   "execution_count": null,
   "id": "d166f45c3154ca42",
   "metadata": {
    "ExecuteTime": {
     "end_time": "2024-03-15T02:15:31.503026Z",
     "start_time": "2024-03-15T02:15:31.476885Z"
    },
    "collapsed": false,
    "jupyter": {
     "outputs_hidden": false
    }
   },
   "outputs": [],
   "source": [
    "model.fc = nn.Linear(512, train_dataset.num_classes)"
   ]
  },
  {
   "cell_type": "code",
   "execution_count": null,
   "id": "91df8a840c8d078c",
   "metadata": {
    "ExecuteTime": {
     "end_time": "2024-03-15T02:15:47.355900Z",
     "start_time": "2024-03-15T02:15:47.190815Z"
    },
    "collapsed": false,
    "jupyter": {
     "outputs_hidden": false
    }
   },
   "outputs": [],
   "source": [
    "'''\n",
    "    모델을 불러오는 함수를 정의한다.\n",
    "'''\n",
    "def get_model(num_classes):\n",
    "    model = models.resnet18(pretrained=True)\n",
    "    model.fc = nn.Linear(512, num_classes)\n",
    "    \n",
    "    return model\n",
    "    \n",
    "model = get_model(num_classes=train_dataset.num_classes)"
   ]
  },
  {
   "cell_type": "code",
   "execution_count": null,
   "id": "5421ac667e0b22f4",
   "metadata": {
    "ExecuteTime": {
     "end_time": "2024-03-14T11:27:22.556462Z",
     "start_time": "2024-03-14T11:27:22.541204Z"
    },
    "collapsed": false,
    "jupyter": {
     "outputs_hidden": false
    }
   },
   "outputs": [],
   "source": []
  },
  {
   "cell_type": "markdown",
   "id": "99c7352234a9e1b2",
   "metadata": {
    "collapsed": false,
    "jupyter": {
     "outputs_hidden": false
    }
   },
   "source": [
    "# 7. 모델 학습 및 검증\n",
    "   1) loss함수와 옵티마이저를 설정한다.\n",
    "   2) 학습 루프를 실행한다.\n",
    "   3) 1 epoch 마다 검증 루프를 실행한다."
   ]
  },
  {
   "cell_type": "code",
   "execution_count": null,
   "id": "c7542b576e403797",
   "metadata": {
    "ExecuteTime": {
     "end_time": "2024-03-14T11:31:37.968621Z",
     "start_time": "2024-03-14T11:27:22.911458Z"
    },
    "collapsed": false,
    "jupyter": {
     "outputs_hidden": false
    }
   },
   "outputs": [],
   "source": [
    "import torch\n",
    "import torch.nn as nn\n",
    "import torch.optim as optim\n",
    "from sklearn.metrics import f1_score\n",
    "\n",
    "# loss 함수와 옵티마이저 설정\n",
    "criterion = nn.BCEWithLogitsLoss()\n",
    "optimizer = optim.Adam(model.parameters(), lr=hyper_params['lr'])\n",
    "\n",
    "# 장치 설정\n",
    "device = torch.device(\"cuda\" if torch.cuda.is_available() else \"cpu\")\n",
    "model.to(device)\n",
    "\n",
    "num_epochs = hyper_params['num_epochs']\n",
    "model_save_dir = './train_results' # epoch 마다 모델 weight를 저장한다.\n",
    "os.makedirs(model_save_dir, exist_ok=True)\n",
    "# 학습\n",
    "for epoch in range(num_epochs):\n",
    "    model.train()\n",
    "    running_loss = 0.0\n",
    "    epoch_loss = 0.0\n",
    "    print_cnt = int(len(train_dataloader) * hyper_params['print_preq'])\n",
    "\n",
    "    for idx, (images, targets) in enumerate(train_dataloader):\n",
    "        images, targets = images.to(device), targets.to(device)\n",
    "        \n",
    "        # 순전파\n",
    "        outputs = model(images)\n",
    "        loss = criterion(outputs, targets)\n",
    "\n",
    "        # 역전파 및 가중치 업데이트\n",
    "        optimizer.zero_grad()\n",
    "        loss.backward()\n",
    "        optimizer.step()\n",
    "\n",
    "        running_loss += loss.item()\n",
    "        epoch_loss += loss.item()\n",
    "        \n",
    "        if idx % print_cnt == 0:\n",
    "            print(f\"Epoch [{epoch+1}/{num_epochs}], \"\n",
    "                  f\"Iter [{idx}/{len(train_dataloader)}] \"\n",
    "                  f\"Loss: {running_loss/print_cnt:.4f}\")\n",
    "            running_loss = 0.0\n",
    "        \n",
    "        \n",
    "\n",
    "    # 한 epoch이 끝날 때마다 손실값 출력\n",
    "    print(f\"Epoch [{epoch+1}/{num_epochs}], Loss: {epoch_loss/len(train_dataloader):.4f}\")\n",
    "    \n",
    "    # 한 epoch이 끝날 때마다 model weight 저장\n",
    "    model_save_path = os.path.join(model_save_dir, f'{epoch}_model.pth')\n",
    "    torch.save(model.state_dict(), model_save_path)\n",
    "\n",
    "    # F1-score 계산 및 출력\n",
    "    model.eval()\n",
    "    y_true, y_pred = [], []\n",
    "    with torch.no_grad():\n",
    "        for images, targets in val_dataloader:\n",
    "            images = images.to(device)\n",
    "            outputs = torch.sigmoid(model(images))\n",
    "            preds = (outputs > hyper_params['score_threshold']).float()  # threshold 설정, 여기서는 0.5로 가정\n",
    "            y_true.extend(targets.cpu().numpy())\n",
    "            y_pred.extend(preds.cpu().numpy())\n",
    "\n",
    "    f1 = f1_score(y_true, y_pred, average='micro')  # F1-score 계산\n",
    "    print(f\"F1-score: {f1:.4f}\")"
   ]
  },
  {
   "cell_type": "code",
   "execution_count": null,
   "id": "a37605ea3e4e17a8",
   "metadata": {
    "ExecuteTime": {
     "end_time": "2024-03-14T11:31:37.972157Z",
     "start_time": "2024-03-14T11:31:37.961123Z"
    },
    "collapsed": false,
    "jupyter": {
     "outputs_hidden": false
    }
   },
   "outputs": [],
   "source": [
    "f1_score(y_true, y_pred, average=None)"
   ]
  },
  {
   "cell_type": "code",
   "execution_count": null,
   "id": "163d479ff36feec2",
   "metadata": {
    "ExecuteTime": {
     "end_time": "2024-03-14T11:31:38.097852Z",
     "start_time": "2024-03-14T11:31:37.968333Z"
    },
    "collapsed": false,
    "jupyter": {
     "outputs_hidden": false
    }
   },
   "outputs": [],
   "source": [
    "import json\n",
    "\n",
    "'''\n",
    "    학습 결과 모델과 하이퍼파라미터를 저장한다.\n",
    "'''\n",
    "\n",
    "model_save_dir = './train_results'\n",
    "os.makedirs(model_save_dir, exist_ok=True)\n",
    "model_save_path = os.path.join(model_save_dir, 'model.pth')\n",
    "\n",
    "torch.save(model.state_dict(), model_save_path)\n",
    "\n",
    "param_save_path = os.path.join(model_save_dir, 'hyper_params.json') \n",
    "with open(param_save_path, 'w')as json_f:\n",
    "    json.dump(hyper_params, json_f, indent='\\t', ensure_ascii=False)"
   ]
  },
  {
   "cell_type": "code",
   "execution_count": null,
   "id": "1514ff877ed6424b",
   "metadata": {
    "collapsed": false,
    "jupyter": {
     "outputs_hidden": false
    }
   },
   "outputs": [],
   "source": []
  },
  {
   "cell_type": "markdown",
   "id": "b66cec4a3f9205ac",
   "metadata": {
    "collapsed": false,
    "jupyter": {
     "outputs_hidden": false
    }
   },
   "source": [
    "# 8. 모델 테스트\n",
    "1) 학습한 모델의 가중치를 불러온다.\n",
    "2) 모델 추론 결과를 확인한다."
   ]
  },
  {
   "cell_type": "code",
   "execution_count": null,
   "id": "5696171468ca2774",
   "metadata": {
    "collapsed": false,
    "jupyter": {
     "outputs_hidden": false
    }
   },
   "outputs": [],
   "source": [
    "'''\n",
    "    모델을 선언하고 학습한 모델의 가중치를 불러온다.\n",
    "'''\n",
    "\n",
    "model_filename = 'model.pth'\n",
    "\n",
    "model = get_model(num_classes=train_dataset.num_classes)\n",
    "model.load_state_dict(torch.load(os.path.join(model_save_dir, model_filename), map_location='cpu'))"
   ]
  },
  {
   "cell_type": "code",
   "execution_count": null,
   "id": "3909a34ab1cec34d",
   "metadata": {
    "ExecuteTime": {
     "end_time": "2024-03-14T11:31:38.413575Z",
     "start_time": "2024-03-14T11:31:38.060544Z"
    },
    "collapsed": false,
    "jupyter": {
     "outputs_hidden": false
    }
   },
   "outputs": [],
   "source": [
    "'''\n",
    "    모델의 추론을 수행한다.\n",
    "'''\n",
    "image_list = []\n",
    "pred_list = []\n",
    "\n",
    "val_cnt = 8\n",
    "iter_cnt = 0\n",
    "for idx, annot in val_annot.iterrows():\n",
    "    if iter_cnt == val_cnt:\n",
    "        break\n",
    "    image_path = os.path.join(data_root, annot['filepath'])\n",
    "    print(f'image_path : {image_path}')\n",
    "    image = Image.open(image_path)\n",
    "    image_list.append(image)\n",
    "    input_image = transform(image).unsqueeze(0).to(device)\n",
    "    \n",
    "    outputs = torch.sigmoid(model(input_image))[0]\n",
    "    preds = (outputs > hyper_params['score_threshold']).int().tolist() # threshold 설정\n",
    "    pred_list.append(preds)\n",
    "    \n",
    "    iter_cnt += 1"
   ]
  },
  {
   "cell_type": "code",
   "execution_count": null,
   "id": "7f7c72876ec14325",
   "metadata": {
    "ExecuteTime": {
     "end_time": "2024-03-14T11:31:38.616859Z",
     "start_time": "2024-03-14T11:31:38.316593Z"
    },
    "collapsed": false,
    "jupyter": {
     "outputs_hidden": false
    }
   },
   "outputs": [],
   "source": [
    "'''\n",
    "    모델의 추론 결과(클래스 번호)를 클래스 이름으로 변경한다\n",
    "'''\n",
    "class_list = train_dataset.class_list\n",
    "pred_class_list = []\n",
    "for pred in pred_list:\n",
    "    pred_class = []\n",
    "    for cls, val in enumerate(pred):\n",
    "        if int(val) == 1:\n",
    "            pred_class.append(class_list[cls])\n",
    "    pred_class_list.append(pred_class)\n"
   ]
  },
  {
   "cell_type": "code",
   "execution_count": null,
   "id": "7f36de1386da5837",
   "metadata": {
    "ExecuteTime": {
     "end_time": "2024-03-14T11:31:38.666815Z",
     "start_time": "2024-03-14T11:31:38.319476Z"
    },
    "collapsed": false,
    "jupyter": {
     "outputs_hidden": false
    }
   },
   "outputs": [],
   "source": [
    "draw_images(image_list, pred_class_list)"
   ]
  },
  {
   "cell_type": "code",
   "execution_count": null,
   "id": "21fc3b813af68b1f",
   "metadata": {
    "ExecuteTime": {
     "end_time": "2024-03-14T11:31:38.667185Z",
     "start_time": "2024-03-14T11:31:38.614338Z"
    },
    "collapsed": false,
    "jupyter": {
     "outputs_hidden": false
    }
   },
   "outputs": [],
   "source": []
  },
  {
   "cell_type": "code",
   "execution_count": null,
   "id": "12bd3462cbdf6f6b",
   "metadata": {
    "collapsed": false,
    "jupyter": {
     "outputs_hidden": false
    }
   },
   "outputs": [],
   "source": []
  }
 ],
 "metadata": {
  "kernelspec": {
   "display_name": "Python 3 (ipykernel)",
   "language": "python",
   "name": "python3"
  },
  "language_info": {
   "codemirror_mode": {
    "name": "ipython",
    "version": 3
   },
   "file_extension": ".py",
   "mimetype": "text/x-python",
   "name": "python",
   "nbconvert_exporter": "python",
   "pygments_lexer": "ipython3",
   "version": "3.11.7"
  }
 },
 "nbformat": 4,
 "nbformat_minor": 5
}
