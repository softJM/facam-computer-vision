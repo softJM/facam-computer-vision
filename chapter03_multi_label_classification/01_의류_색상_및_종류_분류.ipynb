{
 "cells": [
  {
   "cell_type": "markdown",
   "id": "18e8bcf8f99bbc75",
   "metadata": {
    "collapsed": false
   },
   "source": [
    "# Part1 Chpater03_01 의류 색상 및 종류 분류"
   ]
  },
  {
   "cell_type": "markdown",
   "id": "6649fc9d8b51ad58",
   "metadata": {
    "collapsed": false
   },
   "source": [
    "## 1. 데이터 불러오기\n",
    "1) 어노테이션 파일을 불러온다. </br>\n",
    "2) 데이터의 기본 속성을 파악한다. (데이터 개수, 클래스 개수, 클래스 개수 분포 등)"
   ]
  },
  {
   "cell_type": "code",
   "execution_count": null,
   "id": "initial_id",
   "metadata": {
    "ExecuteTime": {
     "end_time": "2024-03-15T01:03:00.180026Z",
     "start_time": "2024-03-15T01:03:00.166754Z"
    }
   },
   "outputs": [],
   "source": [
    "import os\n",
    "import json\n",
    "\n",
    "'''\n",
    "    어노테이션 파일을 불러온다.\n",
    "'''\n",
    "\n",
    "data_root = './part1_chapter03_01' # 데이터가 저장되어 있는 루트 경로\n",
    "annotation_filename = 'annotations.json' # 어노테이션 파일의 이름\n",
    "\n",
    "# json으로 데이터를 불러온다.\n",
    "with open(os.path.join(data_root, annotation_filename), 'r')as json_f:\n",
    "    annotations = json.load(json_f)\n",
    "\n",
    "annotations[:3] # 데이터의 샘플을 출력한다."
   ]
  },
  {
   "cell_type": "code",
   "execution_count": null,
   "id": "2771a2b176be8a91",
   "metadata": {
    "ExecuteTime": {
     "end_time": "2024-03-15T01:03:01.084494Z",
     "start_time": "2024-03-15T01:03:01.074747Z"
    },
    "collapsed": false
   },
   "outputs": [],
   "source": [
    "from collections import defaultdict\n",
    "'''\n",
    "    데이터의 기본 속성을 파악한다. (데이터 개수, 클래스 개수, 클래스 개수 분포 등)\n",
    "'''\n",
    "\n",
    "# 클래스맵을 생성하는 함수\n",
    "def get_class_map(annotations):\n",
    "    cls_map = defaultdict(int) # 기본 값을 int(0)으로 지정하는 딕셔너리 생성\n",
    "    for annot in annotations: # 어노테이션 루프\n",
    "        for cls in annot['classes']: # 존재하는 클래스 마다 카운트를 추가한다.\n",
    "            cls_map[cls] += 1\n",
    "            \n",
    "    return cls_map\n",
    "\n",
    "cls_map = get_class_map(annotations)\n",
    "cls_map"
   ]
  },
  {
   "cell_type": "code",
   "execution_count": null,
   "id": "9c718b799c9731ad",
   "metadata": {
    "ExecuteTime": {
     "end_time": "2024-03-15T01:03:01.611274Z",
     "start_time": "2024-03-15T01:03:01.607334Z"
    },
    "collapsed": false
   },
   "outputs": [],
   "source": [
    "print(f'데이터 개수 : {len(annotations)}')\n",
    "print(f'클래스 개수 : {len(list(cls_map.keys()))}')"
   ]
  },
  {
   "cell_type": "code",
   "execution_count": null,
   "id": "22647803696f38f2",
   "metadata": {
    "ExecuteTime": {
     "end_time": "2024-03-15T01:03:01.989348Z",
     "start_time": "2024-03-15T01:03:01.976956Z"
    },
    "collapsed": false
   },
   "outputs": [],
   "source": []
  },
  {
   "cell_type": "markdown",
   "id": "675b363180a12755",
   "metadata": {
    "collapsed": false
   },
   "source": [
    "#### 빠른 학습이 필요할 경우 데이터의 샘플만 학습한다."
   ]
  },
  {
   "cell_type": "code",
   "execution_count": null,
   "id": "a75b39bd57d7122f",
   "metadata": {
    "ExecuteTime": {
     "end_time": "2024-03-15T01:03:02.641352Z",
     "start_time": "2024-03-15T01:03:02.637511Z"
    },
    "collapsed": false
   },
   "outputs": [],
   "source": [
    "import random\n",
    "'''\n",
    "    빠른 학습을 위해 일부 데이터만 학습할 경우에 실행\n",
    "'''\n",
    "# random.shuffle(annotations)\n",
    "# annotations = annotations[:3000]\n"
   ]
  },
  {
   "cell_type": "markdown",
   "id": "3645fce4aba1c916",
   "metadata": {
    "collapsed": false
   },
   "source": []
  },
  {
   "cell_type": "markdown",
   "id": "23f614f4d8c4df6e",
   "metadata": {
    "collapsed": false
   },
   "source": [
    "# 2. 데이터 시각화\n",
    " 1) 어노테이션을 랜덤으로 섞는다.</br>\n",
    " 2) 전체 데이터 샘플을 시각화 한다.</br>\n",
    " 3) 클래스별 데이터 샘플을 시각화 한다.데이터 샘플을 시각화 하여 확인한다."
   ]
  },
  {
   "cell_type": "code",
   "execution_count": null,
   "id": "ff192099b488967e",
   "metadata": {
    "ExecuteTime": {
     "end_time": "2024-03-15T01:03:04.806780Z",
     "start_time": "2024-03-15T01:03:04.371023Z"
    },
    "collapsed": false
   },
   "outputs": [],
   "source": [
    "import matplotlib.pyplot as plt\n",
    "\n",
    "'''\n",
    "    이미지 시각화 함수를 정의한다. \n",
    "'''\n",
    "\n",
    "def draw_images(images, classes):\n",
    "    '''\n",
    "        :param images: cv2(ndarray) 이미지 리스트\n",
    "        :param classes: 클래스 리스트\n",
    "        :return: None \n",
    "    '''\n",
    "    # 4x2의 그리드 생성 (바둑판 이미지 틀 생성)\n",
    "    fig, axs = plt.subplots(2, 4)\n",
    "    \n",
    "    # 각 하위 그래프에 이미지 출력\n",
    "    for i, ax in enumerate(axs.flat):\n",
    "        ax.imshow(images[i]) # 이미지를 바둑판에 출력\n",
    "        ax.set_title(classes[i]) # 클래스 이름으로 이미지 제목 생성 \n",
    "        # ax.axis('off') # 축 숨기기 (이미지 크기 출력 해제)\n",
    "    \n",
    "    plt.tight_layout()\n",
    "    plt.show()"
   ]
  },
  {
   "cell_type": "code",
   "execution_count": null,
   "id": "173ebdc6be5385ba",
   "metadata": {
    "ExecuteTime": {
     "end_time": "2024-03-15T01:03:05.353655Z",
     "start_time": "2024-03-15T01:03:04.899309Z"
    },
    "collapsed": false
   },
   "outputs": [],
   "source": [
    "from PIL import Image\n",
    "import numpy as np\n",
    "import random\n",
    "\n",
    "'''\n",
    "    데이터를 랜덤하게 셔플하고 시각화를 수행한다.\n",
    "'''\n",
    "\n",
    "random.shuffle(annotations)\n",
    "sample_images = [] # 이미지 샘플 저장\n",
    "sample_classes = [] # 이미지 클래스 저장\n",
    "sample_cnt = 0 # 시작 count\n",
    "max_cnt = 8 # 종류 count\n",
    "\n",
    "'''\n",
    "    어노테이션을 탐색하여 클래스와 파일경로 정보를 불러온다.\n",
    "    데이터 구조는 아래와 같다.\n",
    "    [\n",
    "        {\n",
    "            'filepath': 'green_shirt/915c509883a9b65d343fb7411c973f11d953bd04.jpg',\n",
    "            'filename': '915c509883a9b65d343fb7411c973f11d953bd04.jpg',\n",
    "            'classes': ['green', 'shirt']\n",
    "        },\n",
    "        ...\n",
    "    ]\n",
    "'''\n",
    "for annot in annotations:\n",
    "    sample_classes.append(annot['classes'])\n",
    "    image_path = os.path.join(data_root, annot['filepath'])\n",
    "    image = Image.open(image_path).convert('RGB')\n",
    "    sample_images.append(np.array(image))\n",
    "    sample_cnt += 1\n",
    "    if sample_cnt == max_cnt:\n",
    "        break\n",
    "\n",
    "## 전체 데이터 샘플을 시각화 한다.\n",
    "draw_images(sample_images, sample_classes)"
   ]
  },
  {
   "cell_type": "code",
   "execution_count": null,
   "id": "9a972123252b2ab5",
   "metadata": {
    "ExecuteTime": {
     "end_time": "2024-03-15T01:03:05.903903Z",
     "start_time": "2024-03-15T01:03:05.441238Z"
    },
    "collapsed": false
   },
   "outputs": [],
   "source": [
    "from PIL import Image\n",
    "import numpy as np\n",
    "import random\n",
    "\n",
    "'''\n",
    "    클래스별 데이터를 시각화 한다.\n",
    "'''\n",
    "\n",
    "random.shuffle(annotations)\n",
    "find_cls = ['white', 'shoes'] # 찾고자 하는 클래스\n",
    "sample_images = []\n",
    "sample_classes = []\n",
    "sample_cnt = 0\n",
    "max_cnt = 8\n",
    "for annot in annotations:\n",
    "    cls1, cls2 = annot['classes']\n",
    "    ## 찾고자 하는 클래스와 일치할 경우에 데이터를 불러온다.\n",
    "    if (cls1 in find_cls) and (cls2 in find_cls):\n",
    "        sample_classes.append(annot['classes'])\n",
    "        image_path = os.path.join(data_root, annot['filepath'])\n",
    "        image = Image.open(image_path).convert('RGB')\n",
    "        sample_images.append(np.array(image))\n",
    "        sample_cnt += 1\n",
    "        if sample_cnt == max_cnt:\n",
    "            break\n",
    "    else:\n",
    "        continue\n",
    "\n",
    "## 클래스별 데이터 샘플을 시각화 한다.\n",
    "draw_images(sample_images, sample_classes)"
   ]
  },
  {
   "cell_type": "code",
   "execution_count": null,
   "id": "85f04b750f58e0d2",
   "metadata": {
    "ExecuteTime": {
     "end_time": "2024-03-15T01:03:05.985186Z",
     "start_time": "2024-03-15T01:03:05.945636Z"
    },
    "collapsed": false
   },
   "outputs": [],
   "source": []
  },
  {
   "cell_type": "markdown",
   "id": "925ac9c2a90b7541",
   "metadata": {
    "collapsed": false
   },
   "source": [
    "# 3. 데이터세트 클래스 생성\n",
    "1) json 데이터를 파싱하고 출력하는 커스텀 데이터세트 클래스를 생성한다.</br>\n",
    "2) 데이터세트의 출력 값을 확인한다."
   ]
  },
  {
   "cell_type": "code",
   "execution_count": null,
   "id": "4b6202553e536b15",
   "metadata": {
    "ExecuteTime": {
     "end_time": "2024-03-15T01:03:07.232284Z",
     "start_time": "2024-03-15T01:03:06.372440Z"
    },
    "collapsed": false
   },
   "outputs": [],
   "source": [
    "import torch\n",
    "import torch.nn.functional as F\n",
    "from torch.utils.data import Dataset\n",
    "\n",
    "'''\n",
    "    json 데이터를 파싱하는 커스텀 데이터세트 클래스를 선언한다.\n",
    "'''\n",
    "\n",
    "class JsonDataset(Dataset):\n",
    "    def __init__(self, \n",
    "                 data_root,\n",
    "                 annotations, \n",
    "                 transform=None):\n",
    "        '''\n",
    "            :param data_root: 데이터셋의 루트 경로 \n",
    "            :param annotations: 어노테이션\n",
    "            :param transform: 이미지 변환 모듈\n",
    "        '''\n",
    "        self.data_root = data_root\n",
    "        self.annotations = annotations\n",
    "        self.transform = transform\n",
    "        self.class_list = self._get_classes() # 클래스의 목록\n",
    "        self.num_classes = len(self.class_list) # 클래스 개수\n",
    "        \n",
    "    def __len__(self):\n",
    "        return len(self.annotations) # 데이터 개수\n",
    "\n",
    "    def __getitem__(self, idx):\n",
    "        '''\n",
    "            :param idx:  \n",
    "            :return:\n",
    "                image : 입력 이미지 데이터 (텐서 또는 pillow 이미지)\n",
    "                target : 정답 클래스 데이터 (원-핫 벡터)\n",
    "                    예) [1.0, 0.0, 0.0, 1.0, 0.0, ...]\n",
    "        '''\n",
    "        annot = self.annotations[idx]\n",
    "        image_path = os.path.join(self.data_root, annot['filepath'])\n",
    "        image = Image.open(image_path).convert(\"RGB\")\n",
    "        classes = annot['classes']\n",
    "        \n",
    "        '''\n",
    "            원-핫 벡터를 생성한다.\n",
    "            예) [0.0, 1.0, 0.0, 0.0, 1.0, ...]\n",
    "        '''\n",
    "        target = []\n",
    "        for cls in classes:\n",
    "            target.append(self.class_list.index(cls))\n",
    "        target = F.one_hot(torch.tensor(target), self.num_classes).sum(dim=0).to(torch.float)\n",
    "        \n",
    "        if self.transform:\n",
    "            image = self.transform(image)\n",
    "\n",
    "        return image, target\n",
    "    \n",
    "    def _get_classes(self):\n",
    "        '''\n",
    "        :return: 클래스의 리스트를 반환한다. 각 인덱스는 클래스 번호가 된다.\n",
    "            예) ['blue', 'shirts', 'dress', ...] => blue: 0번 클래스, shirts: 1번 클래스, ... \n",
    "        '''\n",
    "        class_set = set()\n",
    "        for annot in self.annotations:\n",
    "            for cls in annot['classes']:\n",
    "                class_set.add(cls)\n",
    "        class_list = list(class_set)\n",
    "        class_list.sort()\n",
    "        return class_list"
   ]
  },
  {
   "cell_type": "code",
   "execution_count": null,
   "id": "b0d849d7dc6dc187",
   "metadata": {
    "ExecuteTime": {
     "end_time": "2024-03-15T01:03:07.253276Z",
     "start_time": "2024-03-15T01:03:07.235680Z"
    },
    "collapsed": false
   },
   "outputs": [],
   "source": [
    "'''\n",
    "    데이터세트의 출력 값을 시각화 한다.\n",
    "'''\n",
    "dataset = JsonDataset(data_root=data_root,\n",
    "                      annotations=annotations)\n",
    "data = dataset[0]\n",
    "data[0]"
   ]
  },
  {
   "cell_type": "code",
   "execution_count": null,
   "id": "d01d26afbfec3bdc",
   "metadata": {
    "ExecuteTime": {
     "end_time": "2024-03-15T01:03:07.261517Z",
     "start_time": "2024-03-15T01:03:07.252717Z"
    },
    "collapsed": false
   },
   "outputs": [],
   "source": [
    "print(data[1])"
   ]
  },
  {
   "cell_type": "code",
   "execution_count": null,
   "id": "520a94e2b0aa1cf1",
   "metadata": {
    "ExecuteTime": {
     "end_time": "2024-03-15T01:03:07.261857Z",
     "start_time": "2024-03-15T01:03:07.255308Z"
    },
    "collapsed": false
   },
   "outputs": [],
   "source": []
  },
  {
   "cell_type": "markdown",
   "id": "99d2e490b7557548",
   "metadata": {
    "collapsed": false
   },
   "source": [
    "# 4. 학습 및 검증 데이터 분할"
   ]
  },
  {
   "cell_type": "code",
   "execution_count": null,
   "id": "5653df02ce2620d6",
   "metadata": {
    "ExecuteTime": {
     "end_time": "2024-03-15T01:03:07.711678Z",
     "start_time": "2024-03-15T01:03:07.705686Z"
    },
    "collapsed": false
   },
   "outputs": [],
   "source": [
    "'''\n",
    "    원본 데이터셋을 학습과 검증셋으로 분할한다.\n",
    "'''\n",
    "random.shuffle(annotations)\n",
    "len_annot = len(annotations)\n",
    "train_annot = annotations[ : int(len_annot * 0.9)]\n",
    "val_annot = annotations[int(len_annot * 0.9) : ]\n",
    "\n",
    "print(f'학습 데이터 개수 : {len(train_annot)}')\n",
    "print(f'검증 데이터 개수 : {len(val_annot)}')"
   ]
  },
  {
   "cell_type": "code",
   "execution_count": null,
   "id": "e97415388aa0289b",
   "metadata": {
    "ExecuteTime": {
     "end_time": "2024-03-15T01:03:08.146242Z",
     "start_time": "2024-03-15T01:03:08.137020Z"
    },
    "collapsed": false
   },
   "outputs": [],
   "source": []
  },
  {
   "cell_type": "markdown",
   "id": "a34c0f5cb4f2ca77",
   "metadata": {
    "collapsed": false
   },
   "source": [
    "# 5. 모델 학습 준비\n",
    "1. 학습에 필요한 하이퍼파라미터를 선언한다.</br>\n",
    "2. 이미지 변환 모듈을 적용한 데이터세트의 샘플을 확인한다.</br>\n",
    "3. 이미지 변환 모듈을 적용한 학습 및 검증 데이터세트를 생성한다.</br>\n",
    "4. 학습 및 검증 데이터 로더를 생성한다.\n"
   ]
  },
  {
   "cell_type": "code",
   "execution_count": null,
   "id": "77d761fa9aaf7aa5",
   "metadata": {
    "ExecuteTime": {
     "end_time": "2024-03-15T01:03:09.761360Z",
     "start_time": "2024-03-15T01:03:09.757543Z"
    },
    "collapsed": false
   },
   "outputs": [],
   "source": [
    "'''\n",
    "    학습에 필요한 하이퍼파라미터를 선언한다.\n",
    "'''\n",
    "hyper_params = {\n",
    "    'num_epochs': 5,\n",
    "    'lr': 0.0001,\n",
    "    'score_threshold': 0.5, # 모델의 출력값에 대한 임계값\n",
    "    'image_size': 224,\n",
    "    'train_batch_size': 8,\n",
    "    'val_batch_size': 4,\n",
    "    'print_preq': 0.1 # 학습 중 로그 출력 빈도\n",
    "}"
   ]
  },
  {
   "cell_type": "code",
   "execution_count": null,
   "id": "dd20fde4aaf8b5f2",
   "metadata": {
    "ExecuteTime": {
     "end_time": "2024-03-15T01:03:11.082535Z",
     "start_time": "2024-03-15T01:03:10.818665Z"
    },
    "collapsed": false
   },
   "outputs": [],
   "source": [
    "from torchvision import transforms\n",
    "\n",
    "'''\n",
    "    이미지 변환 모듈을 적용한 데이터세트의 결과물을 확인한다.\n",
    "'''\n",
    "# 샘플 이미지 변환 모듈 설정\n",
    "sample_transform = transforms.Compose([\n",
    "    transforms.Resize((hyper_params['image_size'], hyper_params['image_size'])),\n",
    "    transforms.RandomHorizontalFlip(p=0.5),\n",
    "    transforms.RandomRotation(degrees=15),\n",
    "    # transforms.ToTensor(), # 테스트 과정에서 사용하지 않음.\n",
    "])\n",
    "sample_dataset = JsonDataset(data_root, train_annot, sample_transform)"
   ]
  },
  {
   "cell_type": "code",
   "execution_count": null,
   "id": "a1f041d225d3450",
   "metadata": {
    "ExecuteTime": {
     "end_time": "2024-03-15T01:03:20.383255Z",
     "start_time": "2024-03-15T01:03:19.375253Z"
    },
    "collapsed": false
   },
   "outputs": [],
   "source": [
    "transformed_images = []\n",
    "targets = []\n",
    "\n",
    "## 데이터세트에서 변환된 이미지와 target 벡터를 불러온다.\n",
    "max_cnt = 8\n",
    "for idx, (image, target) in enumerate(sample_dataset):\n",
    "    if idx == max_cnt:\n",
    "        break\n",
    "    transformed_images.append(image)\n",
    "    targets.append(target.tolist())\n",
    "\n",
    "## 타켓 벡터를 클래스로 변환한다.\n",
    "target_classes = []\n",
    "class_list = sample_dataset.class_list\n",
    "for target in targets:\n",
    "    classes = []\n",
    "    for cls, val in enumerate(target):\n",
    "        if int(val) == 1:\n",
    "            classes.append(class_list[cls])\n",
    "    target_classes.append(classes)\n",
    "\n",
    "draw_images(transformed_images, target_classes)"
   ]
  },
  {
   "cell_type": "code",
   "execution_count": null,
   "id": "e1a01a4f81a0d13",
   "metadata": {
    "ExecuteTime": {
     "end_time": "2024-03-15T01:03:51.679021Z",
     "start_time": "2024-03-15T01:03:51.629976Z"
    },
    "collapsed": false
   },
   "outputs": [],
   "source": [
    "'''\n",
    "    이미지 변환 모듈을 적용한 학습 및 검증 데이터세트를 생성한다.\n",
    "    학습 및 검증 데이터 로더를 생성한다.\n",
    "'''\n",
    "\n",
    "# 학습 및 검증 이미지 변환 모듈 설정\n",
    "transform = transforms.Compose([\n",
    "    transforms.Resize((hyper_params['image_size'], hyper_params['image_size'])),\n",
    "    transforms.RandomHorizontalFlip(p=0.5),\n",
    "    transforms.RandomRotation(degrees=15),\n",
    "    transforms.ToTensor(),\n",
    "])\n",
    "\n",
    "# 학습 데이터세트 및 데이터로더 설정\n",
    "train_dataset = JsonDataset(data_root, train_annot, transform)\n",
    "train_dataloader = torch.utils.data.DataLoader(train_dataset, batch_size=hyper_params['train_batch_size'], shuffle=True)\n",
    "\n",
    "# 검증 데이터세트 및 데이터로더 설정\n",
    "val_dataset = JsonDataset(data_root, train_annot, transform)\n",
    "val_dataloader = torch.utils.data.DataLoader(train_dataset, batch_size=hyper_params['val_batch_size'], shuffle=False)"
   ]
  },
  {
   "cell_type": "code",
   "execution_count": null,
   "id": "4e27aa654637813e",
   "metadata": {
    "ExecuteTime": {
     "end_time": "2024-03-15T01:03:54.104236Z",
     "start_time": "2024-03-15T01:03:54.096772Z"
    },
    "collapsed": false
   },
   "outputs": [],
   "source": []
  },
  {
   "cell_type": "code",
   "execution_count": null,
   "id": "d21f865859d14e05",
   "metadata": {
    "collapsed": false
   },
   "outputs": [],
   "source": []
  },
  {
   "cell_type": "markdown",
   "id": "adcad304b8ae3349",
   "metadata": {
    "collapsed": false
   },
   "source": [
    "# 6. 모델 생성\n",
    "1) VGG16 모델을 불러온다.</br>\n",
    "2) 클래스 개수에 맞게 출력 레이어를 변경한다."
   ]
  },
  {
   "cell_type": "code",
   "execution_count": null,
   "id": "ed65b82cc2686425",
   "metadata": {
    "ExecuteTime": {
     "end_time": "2024-03-15T01:04:33.555856Z",
     "start_time": "2024-03-15T01:04:32.961312Z"
    },
    "collapsed": false
   },
   "outputs": [],
   "source": [
    "import torch\n",
    "import torch.nn as nn\n",
    "from torchvision import models\n",
    "\n",
    "'''\n",
    "    1. VGG16 모델을 불러온다.\n",
    "    2. 클래스 개수에 맞게 출력 레이어를 변경한다.\n",
    "'''\n",
    "\n",
    "model = models.vgg16(pretrained=True)\n",
    "model"
   ]
  },
  {
   "cell_type": "code",
   "execution_count": null,
   "id": "25d179eb0a8f59a2",
   "metadata": {
    "ExecuteTime": {
     "end_time": "2024-03-15T01:04:34.672909Z",
     "start_time": "2024-03-15T01:04:34.666517Z"
    },
    "collapsed": false
   },
   "outputs": [],
   "source": [
    "model.classifier[-1] = nn.Linear(4096, train_dataset.num_classes, bias=True)"
   ]
  },
  {
   "cell_type": "code",
   "execution_count": null,
   "id": "d7d3d25bf0377b50",
   "metadata": {
    "ExecuteTime": {
     "end_time": "2024-03-15T01:04:34.904670Z",
     "start_time": "2024-03-15T01:04:34.893271Z"
    },
    "collapsed": false
   },
   "outputs": [],
   "source": [
    "model"
   ]
  },
  {
   "cell_type": "code",
   "execution_count": null,
   "id": "4d205c60941a139d",
   "metadata": {
    "ExecuteTime": {
     "end_time": "2024-03-14T03:31:44.303939Z",
     "start_time": "2024-03-14T03:31:44.295782Z"
    },
    "collapsed": false
   },
   "outputs": [],
   "source": []
  },
  {
   "cell_type": "code",
   "execution_count": null,
   "id": "d1a679cf521e9d4f",
   "metadata": {
    "ExecuteTime": {
     "end_time": "2024-03-14T03:31:44.981347Z",
     "start_time": "2024-03-14T03:31:44.972801Z"
    },
    "collapsed": false
   },
   "outputs": [],
   "source": []
  },
  {
   "cell_type": "markdown",
   "id": "8dc69394b4b78b05",
   "metadata": {
    "collapsed": false
   },
   "source": [
    "# 7. 모델 학습 및 검증\n",
    "   1) loss함수와 옵티마이저를 설정한다.</br>\n",
    "   2) 학습 루프를 실행한다.</br>\n",
    "   3) 1 epoch 마다 검증 루프를 실행한다."
   ]
  },
  {
   "cell_type": "code",
   "execution_count": null,
   "id": "e721f8c61e516585",
   "metadata": {
    "ExecuteTime": {
     "end_time": "2024-03-14T04:18:15.596975Z",
     "start_time": "2024-03-14T03:31:47.314694Z"
    },
    "collapsed": false
   },
   "outputs": [],
   "source": [
    "import torch\n",
    "import torch.nn as nn\n",
    "import torch.optim as optim\n",
    "from sklearn.metrics import f1_score\n",
    "\n",
    "\n",
    "# loss 함수와 옵티마이저 설정\n",
    "criterion = nn.BCEWithLogitsLoss()\n",
    "optimizer = optim.Adam(model.parameters(), lr=hyper_params['lr'])\n",
    "\n",
    "# 장치 설정\n",
    "device = torch.device(\"cuda\" if torch.cuda.is_available() else \"cpu\")\n",
    "model.to(device)\n",
    "\n",
    "num_epochs = hyper_params['num_epochs']\n",
    "\n",
    "# 학습 루프\n",
    "for epoch in range(num_epochs):\n",
    "    model.train()\n",
    "    running_loss = 0.0\n",
    "    epoch_loss = 0.0\n",
    "    print_cnt = int(len(train_dataloader) * hyper_params['print_preq'])\n",
    "\n",
    "    for idx, (images, targets) in enumerate(train_dataloader):\n",
    "        images, targets = images.to(device), targets.to(device)\n",
    "        \n",
    "        # forward\n",
    "        outputs = model(images)\n",
    "        loss = criterion(outputs, targets)\n",
    "\n",
    "        # backward & update\n",
    "        optimizer.zero_grad()\n",
    "        loss.backward()\n",
    "        optimizer.step()\n",
    "\n",
    "        running_loss += loss.item()\n",
    "        epoch_loss += loss.item()\n",
    "        \n",
    "        if idx % print_cnt == 0:\n",
    "            print(f\"Epoch [{epoch+1}/{num_epochs}], \"\n",
    "                  f\"Iter [{idx}/{len(train_dataloader)}] \"\n",
    "                  f\"Loss: {running_loss/print_cnt:.4f}\")\n",
    "            running_loss = 0.0\n",
    "        \n",
    "        \n",
    "\n",
    "    # 한 epoch이 끝날 때마다 loss 총 합 출력\n",
    "    print(f\"Epoch [{epoch+1}/{num_epochs}], Loss: {epoch_loss/len(train_dataloader):.4f}\")\n",
    "\n",
    "    # F1-score 계산 및 출력\n",
    "    model.eval()\n",
    "    y_true, y_pred = [], []\n",
    "    with torch.no_grad():\n",
    "        for images, targets in val_dataloader:\n",
    "            images = images.to(device)\n",
    "            outputs = torch.sigmoid(model(images)) # 시그모이드로 출력값 변환\n",
    "            preds = (outputs > hyper_params['score_threshold']).float()  # threshold 설정 (정답값 선택)\n",
    "            y_true.extend(targets.cpu().numpy())\n",
    "            y_pred.extend(preds.cpu().numpy())\n",
    "\n",
    "    f1 = f1_score(y_true, y_pred, average='micro')  # F1-score 계산\n",
    "    print(f\"F1-score: {f1:.4f}\")"
   ]
  },
  {
   "cell_type": "code",
   "execution_count": null,
   "id": "58e96893fd9c00ff",
   "metadata": {
    "collapsed": false
   },
   "outputs": [],
   "source": [
    "'''\n",
    "    학습 결과 모델과 하이퍼파라미터를 저장한다.\n",
    "'''\n",
    "model_save_dir = './train_results'\n",
    "os.makedirs(model_save_dir, exist_ok=True)\n",
    "model_save_path = os.path.join(model_save_dir, 'model.pth')\n",
    "\n",
    "torch.save(model.state_dict(), model_save_path)\n",
    "\n",
    "param_save_path = os.path.join(model_save_dir, 'hyper_params.json') \n",
    "with open(param_save_path, 'w')as json_f:\n",
    "    json.dump(hyper_params, json_f, indent='\\t', ensure_ascii=False)"
   ]
  },
  {
   "cell_type": "code",
   "execution_count": null,
   "id": "27e2fb0cbbf38456",
   "metadata": {
    "collapsed": false
   },
   "outputs": [],
   "source": []
  },
  {
   "cell_type": "markdown",
   "id": "35ab80d603aa482b",
   "metadata": {
    "collapsed": false
   },
   "source": [
    "# 8. 모델 테스트\n",
    "1) 학습한 모델의 가중치를 불러온다.</br>\n",
    "2) 모델 추론 결과를 확인한다."
   ]
  },
  {
   "cell_type": "code",
   "execution_count": null,
   "id": "25bb22d9ff19fabf",
   "metadata": {
    "collapsed": false
   },
   "outputs": [],
   "source": [
    "'''\n",
    "    모델을 선언하고 학습한 모델의 가중치를 불러온다.\n",
    "'''\n",
    "model = models.vgg16(pretrained=True)\n",
    "model.classifier[-1] = nn.Linear(4096, train_dataset.num_classes, bias=True)\n",
    "\n",
    "model.load_state_dict(torch.load(model_save_path, map_location='cpu'))"
   ]
  },
  {
   "cell_type": "code",
   "execution_count": null,
   "id": "50cbf2c6cfc781e7",
   "metadata": {
    "ExecuteTime": {
     "end_time": "2024-03-15T01:25:51.516453Z",
     "start_time": "2024-03-15T01:25:51.463211Z"
    },
    "collapsed": false
   },
   "outputs": [],
   "source": [
    "'''\n",
    "    모델의 추론을 수행한다.\n",
    "'''\n",
    "image_list = []\n",
    "pred_list = []\n",
    "\n",
    "val_cnt = 8\n",
    "for idx, annot in enumerate(val_annot):\n",
    "    if idx == val_cnt:\n",
    "        break\n",
    "    image_path = os.path.join(data_root, annot['filepath'])\n",
    "    print(f'image_path : {image_path}')\n",
    "    image = Image.open(image_path)\n",
    "    image_list.append(image)\n",
    "    input_image = transform(image).unsqueeze(0).to(device)\n",
    "    \n",
    "    outputs = torch.sigmoid(model(input_image))[0]\n",
    "    preds = (outputs > hyper_params['score_threshold']).int().tolist() # threshold 설정\n",
    "    pred_list.append(preds)"
   ]
  },
  {
   "cell_type": "code",
   "execution_count": null,
   "id": "c3ea40810e3de3ba",
   "metadata": {
    "collapsed": false
   },
   "outputs": [],
   "source": [
    "'''\n",
    "    모델의 추론 결과(클래스 번호)를 클래스 이름으로 변경한다\n",
    "'''\n",
    "class_list = train_dataset.class_list\n",
    "pred_class_list = []\n",
    "for pred in pred_list:\n",
    "    pred_class = []\n",
    "    for cls, val in enumerate(pred):\n",
    "        if int(val) == 1:\n",
    "            pred_class.append(class_list[cls])\n",
    "    pred_class_list.append(pred_class)"
   ]
  },
  {
   "cell_type": "code",
   "execution_count": null,
   "id": "5a557eaa69fb3962",
   "metadata": {
    "collapsed": false
   },
   "outputs": [],
   "source": [
    "draw_images(image_list, pred_class_list)"
   ]
  },
  {
   "cell_type": "code",
   "execution_count": null,
   "id": "a244dda513bf1fa1",
   "metadata": {
    "collapsed": false
   },
   "outputs": [],
   "source": []
  },
  {
   "cell_type": "code",
   "execution_count": null,
   "id": "6e60b4416d260f18",
   "metadata": {
    "ExecuteTime": {
     "end_time": "2024-03-14T07:56:10.798978Z",
     "start_time": "2024-03-14T07:56:10.689953Z"
    },
    "collapsed": false
   },
   "outputs": [],
   "source": []
  }
 ],
 "metadata": {
  "kernelspec": {
   "display_name": "Python 3 (ipykernel)",
   "language": "python",
   "name": "python3"
  },
  "language_info": {
   "codemirror_mode": {
    "name": "ipython",
    "version": 3
   },
   "file_extension": ".py",
   "mimetype": "text/x-python",
   "name": "python",
   "nbconvert_exporter": "python",
   "pygments_lexer": "ipython3",
   "version": "3.11.7"
  }
 },
 "nbformat": 4,
 "nbformat_minor": 5
}
